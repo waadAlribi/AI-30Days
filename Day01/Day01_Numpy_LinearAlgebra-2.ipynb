{
  "cells": [
    {
      "cell_type": "markdown",
      "id": "2a40d856",
      "metadata": {
        "id": "2a40d856"
      },
      "source": [
        "\n",
        "# Day 1 — Numpy & Linear Algebra Basics\n",
        "\n",
        "**Goal:** Practice core linear algebra operations with NumPy (vectors, matrices, dot product, matrix multiplication, norms, cosine similarity) and build the geometric intuition required for ML/DL.\n",
        "\n",
        "> 💡 Tip (نصيحة): الجبر الخطي هو لغة البيانات في الذكاء الاصطناعي — كل شيء تقريبًا يتحول إلى عمليات على متجهات ومصفوفات.\n"
      ]
    },
    {
      "cell_type": "markdown",
      "id": "1a82c40c",
      "metadata": {
        "id": "1a82c40c"
      },
      "source": [
        "## 1) Setup"
      ]
    },
    {
      "cell_type": "code",
      "execution_count": null,
      "id": "cafb8296",
      "metadata": {
        "colab": {
          "base_uri": "https://localhost:8080/"
        },
        "id": "cafb8296",
        "outputId": "07c67b23-c81b-4268-93f8-6f445f79aebb"
      },
      "outputs": [
        {
          "output_type": "stream",
          "name": "stdout",
          "text": [
            "NumPy: 2.0.2\n"
          ]
        }
      ],
      "source": [
        "\n",
        "import numpy as np\n",
        "import matplotlib.pyplot as plt\n",
        "\n",
        "np.set_printoptions(suppress=True, precision=4)\n",
        "print(\"NumPy:\", np.__version__)\n"
      ]
    },
    {
      "cell_type": "markdown",
      "id": "bd30dd13",
      "metadata": {
        "id": "bd30dd13"
      },
      "source": [
        "\n",
        "## 2) Core Concepts (مختصر نظري)\n",
        "- **Vector (متجه):** ordered list of numbers. Example: a 3D point `[x, y, z]` or an image flattened to a long vector.\n",
        "- **Matrix (مصفوفة):** 2D table of numbers; can represent datasets or weight matrices in neural nets.\n",
        "- **Dot product:** similarity/interaction between two vectors.\n",
        "- **Matrix multiplication:** composition/combination of linear transformations; core of forward pass in NNs.\n",
        "- **Transpose (ᵀ):** rows ↔ columns.\n",
        "- **Norm (∥v∥):** length/magnitude of a vector.\n",
        "- **Cosine similarity:** angle-based similarity (useful in NLP/retrieval).\n"
      ]
    },
    {
      "cell_type": "markdown",
      "id": "21d6f6d4",
      "metadata": {
        "id": "21d6f6d4"
      },
      "source": [
        "## 3) Vectors — sum, dot, norms, cosine similarity"
      ]
    },
    {
      "cell_type": "code",
      "execution_count": null,
      "id": "ea166d37",
      "metadata": {
        "id": "ea166d37",
        "colab": {
          "base_uri": "https://localhost:8080/"
        },
        "outputId": "ab95f85e-8b4b-49d4-f06e-49eb15c46b70"
      },
      "outputs": [
        {
          "output_type": "stream",
          "name": "stdout",
          "text": [
            "v1: [1 2 3]\n",
            "v2: [4 5 6]\n",
            "Sum: [5 7 9]\n",
            "Dot: 32\n",
            "||v1||: 3.7416573867739413 ||v2||: 8.774964387392123\n",
            "Cosine similarity: 0.9746318461970762\n"
          ]
        }
      ],
      "source": [
        "\n",
        "# Define two vectors\n",
        "v1 = np.array([1, 2, 3])\n",
        "v2 = np.array([4, 5, 6])\n",
        "\n",
        "# Addition\n",
        "sum_v = v1 + v2\n",
        "\n",
        "# Dot product\n",
        "dot = np.dot(v1, v2)\n",
        "\n",
        "# Norms\n",
        "norm_v1 = np.linalg.norm(v1)\n",
        "norm_v2 = np.linalg.norm(v2)\n",
        "\n",
        "# Cosine similarity\n",
        "cos_sim = dot / (norm_v1 * norm_v2)\n",
        "\n",
        "print(\"v1:\", v1)\n",
        "print(\"v2:\", v2)\n",
        "print(\"Sum:\", sum_v)\n",
        "print(\"Dot:\", dot)\n",
        "print(\"||v1||:\", norm_v1, \"||v2||:\", norm_v2)\n",
        "print(\"Cosine similarity:\", cos_sim)\n"
      ]
    },
    {
      "cell_type": "markdown",
      "id": "8dc458c0",
      "metadata": {
        "id": "8dc458c0"
      },
      "source": [
        "### Optional: Visualize two 2D vectors (اختياري)"
      ]
    },
    {
      "cell_type": "code",
      "execution_count": null,
      "id": "a6c2eb78",
      "metadata": {
        "id": "a6c2eb78",
        "colab": {
          "base_uri": "https://localhost:8080/",
          "height": 391
        },
        "outputId": "b950060a-2c2a-4b68-813b-cd8bf340256e"
      },
      "outputs": [
        {
          "output_type": "display_data",
          "data": {
            "text/plain": [
              "<Figure size 400x400 with 1 Axes>"
            ],
            "image/png": "[encoded data removed]"
          },
          "metadata": {}
        }
      ],
      "source": [
        "\n",
        "# Visualize two 2D vectors\n",
        "u = np.array([2, 1])\n",
        "w = np.array([1, 3])\n",
        "\n",
        "plt.figure(figsize=(4,4))\n",
        "plt.quiver(0, 0, u[0], u[1], angles='xy', scale_units='xy', scale=1, label='u')\n",
        "plt.quiver(0, 0, w[0], w[1], angles='xy', scale_units='xy', scale=1, label='w')\n",
        "plt.xlim(-1, 4); plt.ylim(-1, 4)\n",
        "plt.axhline(0, color='gray'); plt.axvline(0, color='gray')\n",
        "plt.legend()\n",
        "plt.title(\"2D vectors u and w\")\n",
        "plt.show()\n"
      ]
    },
    {
      "cell_type": "markdown",
      "id": "5eacedca",
      "metadata": {
        "id": "5eacedca"
      },
      "source": [
        "## 4) Matrices — transpose & multiplication"
      ]
    },
    {
      "cell_type": "code",
      "execution_count": null,
      "id": "73cf610b",
      "metadata": {
        "id": "73cf610b",
        "colab": {
          "base_uri": "https://localhost:8080/"
        },
        "outputId": "946498f5-91ea-48ae-81f4-0706ffd947da"
      },
      "outputs": [
        {
          "output_type": "stream",
          "name": "stdout",
          "text": [
            "A =\n",
            " [[1 2]\n",
            " [3 4]]\n",
            "B =\n",
            " [[5 6]\n",
            " [7 8]]\n",
            "A^T =\n",
            " [[1 3]\n",
            " [2 4]]\n",
            "A @ B =\n",
            " [[19 22]\n",
            " [43 50]]\n"
          ]
        }
      ],
      "source": [
        "\n",
        "A = np.array([[1, 2],\n",
        "              [3, 4]])\n",
        "B = np.array([[5, 6],\n",
        "              [7, 8]])\n",
        "\n",
        "AT = A.T\n",
        "AB = A @ B           # same as np.matmul(A, B)\n",
        "\n",
        "print(\"A =\\n\", A)\n",
        "print(\"B =\\n\", B)\n",
        "print(\"A^T =\\n\", AT)\n",
        "print(\"A @ B =\\n\", AB)\n"
      ]
    },
    {
      "cell_type": "markdown",
      "id": "11cd96d2",
      "metadata": {
        "id": "11cd96d2"
      },
      "source": [
        "## 5) Practical example — student grades (مثال عملي درجات الطلاب)"
      ]
    },
    {
      "cell_type": "code",
      "execution_count": null,
      "id": "2b153fef",
      "metadata": {
        "id": "2b153fef",
        "colab": {
          "base_uri": "https://localhost:8080/"
        },
        "outputId": "c4393044-e9c6-49d7-f18d-a29772f83f44"
      },
      "outputs": [
        {
          "output_type": "stream",
          "name": "stdout",
          "text": [
            "Grades:\n",
            " [[92. 85. 77. 90.]\n",
            " [70. 88. 82. 75.]\n",
            " [85. 95. 91. 89.]]\n",
            "Avg per student: [86.   78.75 90.  ]\n",
            "Avg per course: [82.3333 89.3333 83.3333 84.6667]\n"
          ]
        }
      ],
      "source": [
        "\n",
        "# Rows: students, Cols: courses\n",
        "grades = np.array([\n",
        "    [92, 85, 77, 90],  # student 1\n",
        "    [70, 88, 82, 75],  # student 2\n",
        "    [85, 95, 91, 89],  # student 3\n",
        "], dtype=float)\n",
        "\n",
        "student_means = grades.mean(axis=1)  # average per student\n",
        "course_means  = grades.mean(axis=0)  # average per course\n",
        "\n",
        "print(\"Grades:\\n\", grades)\n",
        "print(\"Avg per student:\", student_means)\n",
        "print(\"Avg per course:\", course_means)\n"
      ]
    },
    {
      "cell_type": "markdown",
      "id": "ed68d825",
      "metadata": {
        "id": "ed68d825"
      },
      "source": [
        "## 6) Utility functions"
      ]
    },
    {
      "cell_type": "code",
      "execution_count": null,
      "id": "c5b0b417",
      "metadata": {
        "id": "c5b0b417",
        "colab": {
          "base_uri": "https://localhost:8080/"
        },
        "outputId": "868c9c1c-286e-4399-a196-1698f1663a61"
      },
      "outputs": [
        {
          "output_type": "stream",
          "name": "stdout",
          "text": [
            "Pairwise cosine similarity:\n",
            " [[ 1.     -0.0117 -0.3825  0.1934]\n",
            " [-0.0117  1.      0.5445 -0.4505]\n",
            " [-0.3825  0.5445  1.     -0.8456]\n",
            " [ 0.1934 -0.4505 -0.8456  1.    ]]\n"
          ]
        }
      ],
      "source": [
        "\n",
        "def cosine_similarity(a: np.ndarray, b: np.ndarray) -> float:\n",
        "    \"\"\"Compute cosine similarity between 1D vectors a and b.\"\"\"\n",
        "    a = np.asarray(a).ravel()\n",
        "    b = np.asarray(b).ravel()\n",
        "    denom = (np.linalg.norm(a) * np.linalg.norm(b))\n",
        "    return float(np.dot(a, b) / denom) if denom != 0 else 0.0\n",
        "\n",
        "def pairwise_cosine(X: np.ndarray):\n",
        "    \"\"\"Return pairwise cosine similarity matrix for 2D array X (rows = vectors).\"\"\"\n",
        "    X = np.asarray(X, dtype=float)\n",
        "    n = X.shape[0]\n",
        "    M = np.zeros((n, n), dtype=float)\n",
        "    for i in range(n):\n",
        "        for j in range(n):\n",
        "            M[i, j] = cosine_similarity(X[i], X[j])\n",
        "    return M\n",
        "\n",
        "# quick test\n",
        "X = np.random.randn(4, 5)\n",
        "print(\"Pairwise cosine similarity:\\n\", pairwise_cosine(X))\n"
      ]
    },
    {
      "cell_type": "markdown",
      "id": "32499a7a",
      "metadata": {
        "id": "32499a7a"
      },
      "source": [
        "\n",
        "## 7) Exercises (تمارين)\n",
        "1. Create **3 random vectors** (size 5). Compute their **norms** and the **cosine similarity** between each pair.  \n",
        "2. Create **two random 3×3 matrices**. Compute the **matrix multiplication** and the **transpose** of the first matrix.  \n",
        "3. Build a function `rowwise_zscore(X)` that standardizes each row (subtract mean and divide by std). Test it on a random matrix.  \n",
        "4. (Challenge) Given three 2D vectors, **plot** them and sort them by **angle** relative to the x-axis.\n"
      ]
    },
    {
      "cell_type": "markdown",
      "id": "87bb9730",
      "metadata": {
        "id": "87bb9730"
      },
      "source": [
        "### Hints / Starter code (تلميحات)"
      ]
    },
    {
      "cell_type": "code",
      "execution_count": null,
      "id": "7ec43cde",
      "metadata": {
        "id": "7ec43cde",
        "colab": {
          "base_uri": "https://localhost:8080/"
        },
        "outputId": "52db9cb0-d4e9-4022-c73c-852a850dd71e"
      },
      "outputs": [
        {
          "output_type": "stream",
          "name": "stdout",
          "text": [
            "Vectors:\n",
            " [[ 1.0359 -1.5758 -0.5494 -1.532   0.5301]\n",
            " [ 0.0601  0.6312  1.623  -0.1221 -0.0197]\n",
            " [ 1.0677  1.1611 -0.2505 -0.8339 -1.5783]]\n",
            "Norms: [2.5468 1.7468 2.3953]\n",
            "Cosine similarity matrix:\n",
            " [[ 1.     -0.3703 -0.0238]\n",
            " [-0.3703  1.      0.1251]\n",
            " [-0.0238  0.1251  1.    ]]\n",
            "\n",
            "A @ B =\n",
            " [[ 1.2548  0.3197 -0.326 ]\n",
            " [-1.3291 -0.3682 -2.6143]\n",
            " [ 2.6582  0.7396  0.2581]]\n",
            "A^T =\n",
            " [[-0.5109  0.2572 -0.9492]\n",
            " [ 0.5623  1.6358  0.455 ]\n",
            " [-0.6518  0.7611 -1.4481]]\n",
            "\n",
            "Rowwise z-score example:\n",
            " [[-1.2461  0.0618  1.4215  1.0696 -0.1924 -1.1144]\n",
            " [ 0.3158  0.8515 -0.9568  1.6117 -0.8821 -0.9401]\n",
            " [-0.1709  1.3031  0.2207  0.8949 -0.4541 -1.7936]\n",
            " [ 0.5456 -1.2485  0.5955 -1.1783  1.53   -0.2444]]\n"
          ]
        }
      ],
      "source": [
        "\n",
        "# Q1\n",
        "V = np.random.randn(3, 5)\n",
        "norms = np.linalg.norm(V, axis=1)\n",
        "S = pairwise_cosine(V)\n",
        "print(\"Vectors:\\n\", V)\n",
        "print(\"Norms:\", norms)\n",
        "print(\"Cosine similarity matrix:\\n\", S)\n",
        "\n",
        "# Q2\n",
        "A = np.random.randn(3, 3)\n",
        "B = np.random.randn(3, 3)\n",
        "print(\"\\nA @ B =\\n\", A @ B)\n",
        "print(\"A^T =\\n\", A.T)\n",
        "\n",
        "# Q3\n",
        "def rowwise_zscore(X: np.ndarray):\n",
        "    X = np.asarray(X, dtype=float)\n",
        "    mu = X.mean(axis=1, keepdims=True)\n",
        "    sigma = X.std(axis=1, keepdims=True)\n",
        "    sigma[sigma == 0] = 1.0\n",
        "    return (X - mu) / sigma\n",
        "\n",
        "X = np.random.randn(4, 6)\n",
        "print(\"\\nRowwise z-score example:\\n\", rowwise_zscore(X))\n"
      ]
    },
    {
      "cell_type": "code",
      "source": [
        "# Q1\n",
        "\n",
        "import numpy as np\n",
        "\n",
        "V = np.random.randn(3, 5)\n",
        "\n",
        "norms = np.linalg.norm(V, axis=1)\n",
        "\n",
        "def cosine_similarity(a, b):\n",
        "    num = np.dot(a, b)\n",
        "    den = np.linalg.norm(a) * np.linalg.norm(b)\n",
        "    return float(num / den) if den != 0 else 0.0\n",
        "\n",
        "S = np.zeros((3, 3))\n",
        "for i in range(3):\n",
        "    for j in range(3):\n",
        "        S[i, j] = cosine_similarity(V[i], V[j])\n",
        "\n",
        "print(\"Vectors:\\n\", V)\n",
        "print(\"Norms:\", norms)\n",
        "print(\"Pairwise cosine:\\n\", S)\n"
      ],
      "metadata": {
        "colab": {
          "base_uri": "https://localhost:8080/"
        },
        "id": "IZeFyRidELcJ",
        "outputId": "81b37aee-d311-4057-e1e2-4ebe86c23462"
      },
      "id": "IZeFyRidELcJ",
      "execution_count": null,
      "outputs": [
        {
          "output_type": "stream",
          "name": "stdout",
          "text": [
            "Vectors:\n",
            " [[-1.8548  1.47    0.0004  0.3593 -1.5113]\n",
            " [ 1.8087  1.6783  2.0697  0.1187 -0.4751]\n",
            " [ 0.3062  0.3288  1.2497 -0.042  -0.8015]]\n",
            "Norms: [2.8309 3.2575 1.5517]\n",
            "Pairwise cosine:\n",
            " [[ 1.     -0.0137  0.2532]\n",
            " [-0.0137  1.      0.8048]\n",
            " [ 0.2532  0.8048  1.    ]]\n"
          ]
        }
      ]
    },
    {
      "cell_type": "code",
      "source": [
        "A = np.random.randn(3, 3)\n",
        "B = np.random.randn(3, 3)\n",
        "\n",
        "AB = A @ B           # matrix multiplication\n",
        "AT = A.T             # transpose\n",
        "\n",
        "print(\"A:\\n\", A)\n",
        "print(\"B:\\n\", B)\n",
        "print(\"A @ B:\\n\", AB)\n",
        "print(\"A^T:\\n\", AT)\n"
      ],
      "metadata": {
        "colab": {
          "base_uri": "https://localhost:8080/"
        },
        "id": "0eBbRv8gE8LH",
        "outputId": "ac405cee-776c-4945-aec3-b666f82f12b5"
      },
      "id": "0eBbRv8gE8LH",
      "execution_count": null,
      "outputs": [
        {
          "output_type": "stream",
          "name": "stdout",
          "text": [
            "A:\n",
            " [[ 1.4124  0.3526  0.6907]\n",
            " [-0.0241 -1.1047 -1.3469]\n",
            " [-0.5032  0.1811  0.3333]]\n",
            "B:\n",
            " [[-0.1907 -0.2757  1.0407]\n",
            " [-0.2296 -0.8226 -1.2574]\n",
            " [ 1.2084 -0.9871  0.3943]]\n",
            "A @ B:\n",
            " [[ 0.4843 -1.3613  1.2988]\n",
            " [-1.3694  2.245   0.8329]\n",
            " [ 0.4571 -0.3392 -0.6201]]\n",
            "A^T:\n",
            " [[ 1.4124 -0.0241 -0.5032]\n",
            " [ 0.3526 -1.1047  0.1811]\n",
            " [ 0.6907 -1.3469  0.3333]]\n"
          ]
        }
      ]
    },
    {
      "cell_type": "code",
      "source": [
        "def rowwise_zscore(X: np.ndarray):\n",
        "    X = np.asarray(X, dtype=float)\n",
        "    mu = X.mean(axis=1, keepdims=True)\n",
        "    sigma = X.std(axis=1, keepdims=True)\n",
        "    sigma[sigma == 0] = 1.0\n",
        "    return (X - mu) / sigma\n",
        "\n",
        "\n",
        "X = np.random.randn(4, 6)\n",
        "Z = rowwise_zscore(X)\n",
        "\n",
        "print(\"X:\\n\", X)\n",
        "print(\"Row-wise z-score:\\n\", Z)\n",
        "print(\"Row means (≈0):\", Z.mean(axis=1))\n",
        "print(\"Row stds (≈1): \", Z.std(axis=1))\n"
      ],
      "metadata": {
        "colab": {
          "base_uri": "https://localhost:8080/"
        },
        "id": "PXD6BxQIFEIc",
        "outputId": "75f136aa-af6c-466f-fc17-23ad321622d7"
      },
      "id": "PXD6BxQIFEIc",
      "execution_count": null,
      "outputs": [
        {
          "output_type": "stream",
          "name": "stdout",
          "text": [
            "X:\n",
            " [[-1.0194  0.7197 -0.2501  1.1048  1.2217  1.1669]\n",
            " [ 0.0384  0.3575 -0.1804 -0.8709 -0.7887 -1.2833]\n",
            " [-0.0855  0.9602 -0.7502  1.0735 -0.538  -1.3878]\n",
            " [ 0.2843 -0.2429  2.0343  0.5109 -0.1354  0.6721]]\n",
            "Row-wise z-score:\n",
            " [[-1.7941  0.2722 -0.88    0.7298  0.8686  0.8035]\n",
            " [ 0.8648  1.4247  0.481  -0.7304 -0.5862 -1.4539]\n",
            " [ 0.0401  1.2127 -0.7052  1.3398 -0.4673 -1.4202]\n",
            " [-0.3146 -1.0166  2.0158 -0.0128 -0.8736  0.2018]]\n",
            "Row means (≈0): [ 0. -0.  0.  0.]\n",
            "Row stds (≈1):  [1. 1. 1. 1.]\n"
          ]
        }
      ]
    },
    {
      "cell_type": "code",
      "source": [
        "import numpy as np\n",
        "import matplotlib.pyplot as plt\n",
        "\n",
        "U = np.array([\n",
        "    [2.0,  1.0],\n",
        "    [1.0,  3.0],\n",
        "    [-1.0, 2.0]\n",
        "])\n",
        "\n",
        "# Angle relative to x-axis: atan2(y, x)\n",
        "angles = np.arctan2(U[:,1], U[:,0])   # in radians, range [-pi, pi]\n",
        "order = np.argsort(angles)            # ascending by angle\n",
        "U_sorted = U[order]\n",
        "angles_deg = np.degrees(angles[order])\n",
        "\n",
        "print(\"Vectors (unsorted):\\n\", U)\n",
        "print(\"Angles (deg, sorted):\", angles_deg)\n",
        "print(\"Vectors (sorted by angle):\\n\", U_sorted)\n",
        "\n",
        "# Plot\n",
        "plt.figure(figsize=(5,5))\n",
        "for i, (x, y) in enumerate(U_sorted):\n",
        "    plt.quiver(0, 0, x, y, angles='xy', scale_units='xy', scale=1, label=f\"v{i+1} (θ={angles_deg[i]:.1f}°)\")\n",
        "\n",
        "plt.xlim(-3, 3); plt.ylim(-3, 3)\n",
        "plt.axhline(0); plt.axvline(0)\n",
        "plt.gca().set_aspect('equal', adjustable='box')\n",
        "plt.title(\"Three 2D vectors sorted by angle (atan2)\")\n",
        "plt.legend()\n",
        "plt.show()\n"
      ],
      "metadata": {
        "colab": {
          "base_uri": "https://localhost:8080/",
          "height": 621
        },
        "id": "AL360PuUFNYY",
        "outputId": "83f79d40-4e31-4c85-a358-7bb87fa0cd34"
      },
      "id": "AL360PuUFNYY",
      "execution_count": null,
      "outputs": [
        {
          "output_type": "stream",
          "name": "stdout",
          "text": [
            "Vectors (unsorted):\n",
            " [[ 2.  1.]\n",
            " [ 1.  3.]\n",
            " [-1.  2.]]\n",
            "Angles (deg, sorted): [ 26.5651  71.5651 116.5651]\n",
            "Vectors (sorted by angle):\n",
            " [[ 2.  1.]\n",
            " [ 1.  3.]\n",
            " [-1.  2.]]\n"
          ]
        },
        {
          "output_type": "display_data",
          "data": {
            "text/plain": [
              "<Figure size 500x500 with 1 Axes>"
            ],
            "image/png": "[encoded data removed]"
          },
          "metadata": {}
        }
      ]
    },
    {
      "cell_type": "markdown",
      "id": "f70e52e3",
      "metadata": {
        "id": "f70e52e3"
      },
      "source": [
        "\n",
        "## 8) Wrap-up (الخلاصة)\n",
        "- Data ⇢ vectors & matrices.  \n",
        "- Learning ⇢ mostly **matrix multiplications** + **nonlinearities**.  \n",
        "- Today you used NumPy to manipulate vectors/matrices and computed norms & cosine similarity.\n",
        "\n",
        "**Next (غدًا):** Probability & Statistics with NumPy/Matplotlib (distributions, mean, variance, sampling).\n"
      ]
    }
  ],
  "metadata": {
    "colab": {
      "provenance": []
    },
    "language_info": {
      "name": "python"
    },
    "kernelspec": {
      "name": "python3",
      "display_name": "Python 3"
    }
  },
  "nbformat": 4,
  "nbformat_minor": 5
}